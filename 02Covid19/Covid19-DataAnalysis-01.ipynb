{
 "cells": [
  {
   "cell_type": "code",
   "execution_count": 2,
   "metadata": {},
   "outputs": [],
   "source": [
    "import numpy as np\n",
    "import pandas as pd\n",
    "import matplotlib as plt"
   ]
  },
  {
   "cell_type": "markdown",
   "metadata": {},
   "source": [
    "### DataSet\n",
    "\"Johns Hopkins COVID-19 Case Tracker\" from https://data.world/associatedpress/johns-hopkins-coronavirus-case-tracker  \n",
    "1_country_level_confirmed_cases.csv  \n",
    "2_cases_and_deaths_by_county_timeseries.csv  \n",
    "3_cases_and_deaths_by_state_timeseries.csv"
   ]
  },
  {
   "cell_type": "code",
   "execution_count": 3,
   "metadata": {},
   "outputs": [],
   "source": [
    "df1 = pd.read_csv('https://query.data.world/s/yfild4f3ed4h2chmimy6nwhqtpq32z')"
   ]
  },
  {
   "cell_type": "code",
   "execution_count": 4,
   "metadata": {},
   "outputs": [
    {
     "data": {
      "text/plain": [
       "Index(['last_update', 'state', 'county_name', 'county_name_long', 'fips_code',\n",
       "       'lat', 'lon', 'NCHS_urbanization', 'total_population', 'confirmed',\n",
       "       'confirmed_per_100000', 'deaths', 'deaths_per_100000'],\n",
       "      dtype='object')"
      ]
     },
     "execution_count": 4,
     "metadata": {},
     "output_type": "execute_result"
    }
   ],
   "source": [
    "df1.columns"
   ]
  },
  {
   "cell_type": "code",
   "execution_count": 4,
   "metadata": {},
   "outputs": [],
   "source": [
    "df2 = pd.read_csv('https://query.data.world/s/fh22changoiokzrvizxx7qqw7yagku')"
   ]
  },
  {
   "cell_type": "code",
   "execution_count": 6,
   "metadata": {},
   "outputs": [
    {
     "data": {
      "text/plain": [
       "Index(['uid', 'location_type', 'fips_code', 'location_name', 'state', 'date',\n",
       "       'total_population', 'cumulative_cases', 'cumulative_cases_per_100_000',\n",
       "       'cumulative_deaths', 'cumulative_deaths_per_100_000', 'new_cases',\n",
       "       'new_deaths', 'new_cases_per_100_000', 'new_deaths_per_100_000',\n",
       "       'new_cases_rolling_7_day_avg', 'new_deaths_rolling_7_day_avg'],\n",
       "      dtype='object')"
      ]
     },
     "execution_count": 6,
     "metadata": {},
     "output_type": "execute_result"
    }
   ],
   "source": [
    "df2.columns"
   ]
  },
  {
   "cell_type": "code",
   "execution_count": 5,
   "metadata": {},
   "outputs": [],
   "source": [
    "df3 = pd.read_csv('https://query.data.world/s/br5ii6jeccar7bxgwbvozvzucjzali')"
   ]
  },
  {
   "cell_type": "code",
   "execution_count": 7,
   "metadata": {},
   "outputs": [
    {
     "data": {
      "text/plain": [
       "Index(['state', 'date', 'total_population', 'cumulative_cases',\n",
       "       'cumulative_cases_per_1000', 'cumulative_deaths',\n",
       "       'cumulative_deaths_per_1000', 'new_cases',\n",
       "       'new_cases_7_day_rolling_avg', 'new_deaths',\n",
       "       'new_deaths_7_day_rolling_avg', 'new_deaths_per_1000',\n",
       "       'new_cases_per_1000'],\n",
       "      dtype='object')"
      ]
     },
     "execution_count": 7,
     "metadata": {},
     "output_type": "execute_result"
    }
   ],
   "source": [
    "df3.columns"
   ]
  },
  {
   "cell_type": "code",
   "execution_count": null,
   "metadata": {},
   "outputs": [],
   "source": []
  }
 ],
 "metadata": {
  "kernelspec": {
   "display_name": "Python 3",
   "language": "python",
   "name": "python3"
  },
  "language_info": {
   "codemirror_mode": {
    "name": "ipython",
    "version": 3
   },
   "file_extension": ".py",
   "mimetype": "text/x-python",
   "name": "python",
   "nbconvert_exporter": "python",
   "pygments_lexer": "ipython3",
   "version": "3.7.3"
  }
 },
 "nbformat": 4,
 "nbformat_minor": 2
}
